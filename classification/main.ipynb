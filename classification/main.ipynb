{
  "cells": [
    {
      "cell_type": "code",
      "execution_count": null,
      "metadata": {
        "id": "7bwrHTCfjvKj"
      },
      "outputs": [],
      "source": [
        "# Imports\n",
        "import os\n",
        "import random\n",
        "import base64\n",
        "import logging\n",
        "import pathlib\n",
        "import typing\n",
        "import numpy as np\n",
        "import pandas as pd\n",
        "import datetime as dt\n",
        "import keras\n",
        "from listy import parseData\n",
        "from listy import XDfunc\n",
        "from listy import generate_and_save_all_output_matrix\n"
      ]
    },
    {
      "cell_type": "code",
      "execution_count": null,
      "metadata": {},
      "outputs": [],
      "source": [
        "#parse data\n",
        "XDfunc([\"/home/lojek/WTUM_2024_2/classification/data/csv/data_rand\",\n",
        "        \"/home/lojek/WTUM_2024_2/classification/data/csv/data_rand1\",\n",
        "        \"/home/lojek/WTUM_2024_2/classification/data/csv/data_rand2\",\n",
        "        \"/home/lojek/WTUM_2024_2/classification/data/csv/data_rand3\",\n",
        "        \"/home/lojek/WTUM_2024_2/classification/data/csv/data_rand4\",\n",
        "        \"/home/lojek/WTUM_2024_2/classification/data/csv/data_rand5\",\n",
        "        \"/home/lojek/WTUM_2024_2/classification/data/csv/data_rand6\",\n",
        "        \"/home/lojek/WTUM_2024_2/classification/data/csv/data_rand7\",\n",
        "        \"/home/lojek/WTUM_2024_2/classification/data/csv/data_rand8\",\n",
        "        \"/home/lojek/WTUM_2024_2/classification/data/csv/data_rand9\",\n",
        "        \"/home/lojek/WTUM_2024_2/classification/data/csv/data_rand10\",\n",
        "        \"/home/lojek/WTUM_2024_2/classification/data/csv/data_rand11\",\n",
        "        \"/home/lojek/WTUM_2024_2/classification/data/csv/data_rand12\",\n",
        "        \"/home/lojek/WTUM_2024_2/classification/data/csv/data_rand13\",\n",
        "        \"/home/lojek/WTUM_2024_2/classification/data/csv/data_rand14\",\n",
        "        \"/home/lojek/WTUM_2024_2/classification/data/csv/data_rand15\",\n",
        "        \"/home/lojek/WTUM_2024_2/classification/data/csv/data_rand16\",\n",
        "        \"/home/lojek/WTUM_2024_2/classification/data/csv/data_rand17\",\n",
        "        \"/home/lojek/WTUM_2024_2/classification/data/csv/data_to8\",\n",
        "        \n",
        "       ],\"/home/lojek/WTUM_2024_2/classification/data/npy/\")"
      ]
    },
    {
      "cell_type": "code",
      "execution_count": null,
      "metadata": {},
      "outputs": [],
      "source": [
        "#loaddata\n",
        "array_data_filename = pathlib.Path(\"/home/lojek/WTUM_2024_2/classification/data/npy/arrayData.npy\")\n",
        "number_data_filename = pathlib.Path(\"/home/lojek/WTUM_2024_2/classification/data/npy/numberData.npy\")\n",
        "target_data_filename = pathlib.Path(\"/home/lojek/WTUM_2024_2/classification/data/npy/targetData.npy\")\n",
        "\n",
        "if array_data_filename.is_file() and number_data_filename.is_file() and target_data_filename.is_file():\n",
        "    logging.info(\"Loading data from .npy files\")\n",
        "    array_data_full = np.load(array_data_filename, mmap_mode = \"r\")\n",
        "    number_data_full = np.load(number_data_filename, mmap_mode = \"r\")\n",
        "    target_data_full = np.load(target_data_filename, mmap_mode = \"r\")"
      ]
    },
    {
      "cell_type": "code",
      "execution_count": null,
      "metadata": {},
      "outputs": [],
      "source": [
        "# Get full data sample\n",
        "array_data =array_data_full\n",
        "number_data = number_data_full\n",
        "target_data = target_data_full\n",
        "generate_and_save_all_output_matrix(array_data,\"/home/lojek/WTUM_2024_2/classification/data/npy/\")"
      ]
    },
    {
      "cell_type": "code",
      "execution_count": null,
      "metadata": {},
      "outputs": [],
      "source": [
        "# Get smaller data sample\n",
        "indices = random.sample(range(len(target_data_full)), 100000)\n",
        "\n",
        "array_data = []\n",
        "number_data = []\n",
        "target_data = []\n",
        "\n",
        "for index in indices:\n",
        "    array_data.append(array_data_full[index])\n",
        "    number_data.append(number_data_full[index])\n",
        "    target_data.append(target_data_full[index])\n",
        "\n",
        "array_data = np.array(array_data)\n",
        "number_data = np.array(number_data)\n",
        "target_data = np.array(target_data)"
      ]
    },
    {
      "cell_type": "code",
      "execution_count": null,
      "metadata": {},
      "outputs": [],
      "source": [
        "# load model\n",
        "import tensorflow as tf\n",
        "MODEL_PATH = \"/home/lojek/WTUM_2024_2/classification/models/gruba-berta/2024-05-08_10-34-20.keras\"\n",
        "model = tf.keras.models.load_model(\n",
        "    MODEL_PATH\n",
        ")\n",
        "MODEL_NAME = \"gruba-berta\"\n",
        "MODEL_PATH = pathlib.Path(\"models\") / MODEL_NAME\n",
        "LOSS = \"mean_squared_error\"\n",
        "METRICS = [\"mae\"]\n",
        "BATCH_SIZE = 128"
      ]
    },
    {
      "cell_type": "code",
      "execution_count": null,
      "metadata": {},
      "outputs": [],
      "source": [
        "# Setup variables\n",
        "MODEL_NAME = \"gruba-berta\"\n",
        "MODEL_PATH = pathlib.Path(\"models\") / MODEL_NAME\n",
        "LOSS = \"mean_squared_error\"\n",
        "METRICS = [\"mae\"]\n",
        "BATCH_SIZE = 160"
      ]
    },
    {
      "cell_type": "code",
      "execution_count": null,
      "metadata": {},
      "outputs": [],
      "source": [
        "#testy\n",
        "#model.predict([np.array([0]),np.array(array_data[None,0])])\n",
        "board=array_data[0]\n",
        "print(model.predict([np.array([0]),np.array(board)]))\n",
        "#print(number_data_full[0])\n",
        "#np.array(array_data_full[0]).shape\n"
      ]
    },
    {
      "cell_type": "code",
      "execution_count": null,
      "metadata": {},
      "outputs": [],
      "source": [
        "# Create model\n",
        "\n",
        "# Define the input layers\n",
        "number_input = keras.layers.Input(shape = (1,), name = \"number_input\") # type: ignore\n",
        "array_input = keras.layers.Input(shape = (6, 7, 2), name = \"array_input\")\n",
        "\n",
        "# Flatten the array input\n",
        "flattened_array = keras.layers.Flatten()(array_input)\n",
        "\n",
        "# Concatenate the flattened array input with the number input\n",
        "concatenated_input = keras.layers.Concatenate()([number_input, flattened_array])\n",
        "\n",
        "# Dense layers for processing concatenated inputs\n",
        "dense1 = keras.layers.Dense(1024, activation = \"relu\")(concatenated_input)\n",
        "dense2 = keras.layers.Dense(1024, activation = \"relu\")(dense1)\n",
        "dense3 = keras.layers.Dense(1024, activation = \"relu\")(dense2)\n",
        "\n",
        "# Convolutional layers for processing the array input\n",
        "conv1 = keras.layers.Conv2D(1024, kernel_size = (3, 3), activation = \"relu\", padding = \"same\")(array_input)\n",
        "pool1 = keras.layers.MaxPooling2D(pool_size = (2, 2))(conv1)\n",
        "conv2 = keras.layers.Conv2D(1024, kernel_size = (3, 3), activation = \"relu\", padding = \"same\")(pool1)\n",
        "pool2 = keras.layers.MaxPooling2D(pool_size = (2, 2))(conv2)\n",
        "flatten = keras.layers.Flatten()(pool2)\n",
        "\n",
        "dense4 = keras.layers.Dense(1024, activation = \"relu\")(flatten)\n",
        "dense5 = keras.layers.Dense(1024, activation = \"relu\")(dense4)\n",
        "dense6 = keras.layers.Dense(1024, activation = \"relu\")(dense5)\n",
        "\n",
        "# Concatenate the output of the dense and convolutional layers\n",
        "concatenated_output = keras.layers.Concatenate()([dense3, dense6])\n",
        "\n",
        "# Additional Dense layers\n",
        "dense7 = keras.layers.Dense(1024, activation = \"relu\")(concatenated_output)\n",
        "dense8 = keras.layers.Dense(1024, activation = \"relu\")(dense7)\n",
        "dense9 = keras.layers.Dense(1024, activation = \"relu\")(dense8)\n",
        "dense10 = keras.layers.Dense(1024, activation = \"relu\")(dense9)\n",
        "dense11 = keras.layers.Dense(1024, activation = \"relu\")(dense10)\n",
        "\n",
        "# Output layer\n",
        "output = keras.layers.Dense(7, activation = \"linear\", name = \"output\")(dense11)\n",
        "\n",
        "# Create the model\n",
        "model = keras.models.Model(inputs = [number_input, array_input], outputs = output)\n",
        "\n",
        "# Compile the model\n",
        "model.compile(optimizer = \"adam\", loss = LOSS, metrics = METRICS)\n",
        "\n",
        "# Print model summary\n",
        "model.summary()"
      ]
    },
    {
      "cell_type": "code",
      "execution_count": null,
      "metadata": {
        "id": "d2x5jY0ejvKp"
      },
      "outputs": [],
      "source": [
        "# Fit model\n",
        "model.fit([number_data, array_data], target_data, epochs = 1, batch_size = BATCH_SIZE, validation_split = 0.2)\n",
        "# Save model\n",
        "model.save(MODEL_PATH / f\"{dt.datetime.today().strftime('%Y-%m-%d_%H-%M-%S')}.keras\")\n",
        "# Fit model\n",
        "model.fit([number_data, array_data], target_data, epochs = 1, batch_size = BATCH_SIZE, validation_split = 0.2)\n",
        "# Save model\n",
        "model.save(MODEL_PATH / f\"{dt.datetime.today().strftime('%Y-%m-%d_%H-%M-%S')}.keras\")\n",
        "# Fit model\n",
        "model.fit([number_data, array_data], target_data, epochs = 1, batch_size = BATCH_SIZE, validation_split = 0.2)\n",
        "# Save model\n",
        "model.save(MODEL_PATH / f\"{dt.datetime.today().strftime('%Y-%m-%d_%H-%M-%S')}.keras\")\n",
        "\n"
      ]
    },
    {
      "cell_type": "code",
      "execution_count": null,
      "metadata": {
        "id": "rAkPO5vDjvKq"
      },
      "outputs": [],
      "source": [
        "# Test model\n",
        "test_loss, test_mertics = model.evaluate([number_data, array_data], target_data, batch_size = BATCH_SIZE)\n",
        "print(f\"Test loss: {test_loss}, Test metrics: {test_mertics}\")"
      ]
    },
    {
      "cell_type": "code",
      "execution_count": null,
      "metadata": {
        "id": "y0cu7U9VjvKr"
      },
      "outputs": [],
      "source": [
        "# Save model\n",
        "model.save(MODEL_PATH / f\"{dt.datetime.today().strftime('%Y-%m-%d_%H-%M-%S')}.keras\")"
      ]
    },
    {
      "cell_type": "code",
      "execution_count": null,
      "metadata": {},
      "outputs": [],
      "source": [
        "# Train model\n",
        "while True:\n",
        "    model_name = sorted([f for f in os.listdir(MODEL_PATH) if os.path.isfile(os.path.join(MODEL_PATH, f)) and f.endswith(\".keras\")])[-1]\n",
        "    model: typing.Any = keras.models.load_model(MODEL_PATH / model_name)\n",
        "    model.compile(optimizer = \"adam\", loss = LOSS, metrics = METRICS)\n",
        "    model.fit([number_data, array_data], target_data, epochs = 1, batch_size = BATCH_SIZE, validation_split = 0.2)\n",
        "    model.save(MODEL_PATH / f\"{dt.datetime.today().strftime('%Y-%m-%d_%H-%M-%S')}.keras\")"
      ]
    }
  ],
  "metadata": {
    "colab": {
      "provenance": []
    },
    "kernelspec": {
      "display_name": "venv",
      "language": "python",
      "name": "python3"
    },
    "language_info": {
      "codemirror_mode": {
        "name": "ipython",
        "version": 3
      },
      "file_extension": ".py",
      "mimetype": "text/x-python",
      "name": "python",
      "nbconvert_exporter": "python",
      "pygments_lexer": "ipython3",
      "version": "3.11.9"
    }
  },
  "nbformat": 4,
  "nbformat_minor": 0
}
