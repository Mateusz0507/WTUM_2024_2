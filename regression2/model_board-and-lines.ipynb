{
 "cells": [
  {
   "cell_type": "code",
   "execution_count": null,
   "metadata": {},
   "outputs": [],
   "source": [
    "# Imports and definitions\n",
    "\n",
    "import keras\n",
    "import numpy as np\n",
    "from datetime import datetime\n",
    "\n",
    "from os import listdir, makedirs\n",
    "from os.path import exists, isfile, join\n",
    "\n",
    "model_name = \"board-and-lines\"\n"
   ]
  },
  {
   "cell_type": "code",
   "execution_count": null,
   "metadata": {},
   "outputs": [],
   "source": [
    "# Create model\n",
    "\n",
    "position_shape = (2, 7, 6)\n",
    "lines_shape = (4,)\n",
    "\n",
    "position_input = keras.layers.Input(shape=position_shape, name=\"regression: board and lines\")\n",
    "flatten = keras.layers.Flatten()(position_input)\n",
    "lines_input = keras.layers.Input(shape=lines_shape)\n",
    "concatenated = keras.layers.Concatenate()([flatten, lines_input, lines_input])\n",
    "\n",
    "dense1 = keras.layers.Dense(1024, activation = \"relu\")(concatenated)\n",
    "dense2 = keras.layers.Dense(512, activation = \"relu\")(dense1)\n",
    "dense3 = keras.layers.Dense(256, activation = \"relu\")(dense2)\n",
    "\n",
    "output = keras.layers.Dense(1, activation = \"linear\", name = \"output\")(dense3)\n",
    "\n",
    "model = keras.models.Model(inputs=[position_input, lines_input, lines_input], outputs=output)\n",
    "model.compile(optimizer=\"adam\", loss=\"mean_squared_error\", metrics=[\"mae\"])\n",
    "model.summary()\n"
   ]
  },
  {
   "cell_type": "code",
   "execution_count": null,
   "metadata": {},
   "outputs": [],
   "source": [
    "# Save model\n",
    "\n",
    "if not exists(f\"models/{model_name}\"):\n",
    "    makedirs(f\"models/{model_name}\")\n",
    "model.save(f\"models/{model_name}/{datetime.today().strftime('%Y-%m-%d_%H-%M-%S')}.keras\")\n"
   ]
  },
  {
   "cell_type": "code",
   "execution_count": null,
   "metadata": {},
   "outputs": [],
   "source": [
    "# Train model\n",
    "\n",
    "positions = np.load(\"positions.npy\")\n",
    "evaluations = np.load(\"evaluations.npy\")\n",
    "player1_lines = np.load(\"player1_lines.npy\")\n",
    "player2_lines = np.load(\"player2_lines.npy\")\n",
    "\n",
    "while True:\n",
    "    model_version = sorted([f for f in listdir(f\"models/{model_name}\") if isfile(join(f\"models/{model_name}\", f))])[-1]\n",
    "\n",
    "    model = keras.models.load_model(f\"models/{model_name}/{model_version}\")\n",
    "    model.compile(optimizer=\"adam\", loss=\"mean_squared_error\", metrics=[\"mae\"])\n",
    "    model.fit([positions, player1_lines, player2_lines], evaluations, epochs = 1, batch_size = 128, validation_split = 0.2)\n",
    "\n",
    "    model.save(f\"models/{model_name}/{datetime.today().strftime('%Y-%m-%d_%H-%M-%S')}.keras\")\n"
   ]
  }
 ],
 "metadata": {
  "kernelspec": {
   "display_name": "venv",
   "language": "python",
   "name": "python3"
  },
  "language_info": {
   "codemirror_mode": {
    "name": "ipython",
    "version": 3
   },
   "file_extension": ".py",
   "mimetype": "text/x-python",
   "name": "python",
   "nbconvert_exporter": "python",
   "pygments_lexer": "ipython3",
   "version": "3.11.9"
  }
 },
 "nbformat": 4,
 "nbformat_minor": 2
}
