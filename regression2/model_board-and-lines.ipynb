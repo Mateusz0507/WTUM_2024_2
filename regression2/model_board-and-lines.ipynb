{
 "cells": [
  {
   "cell_type": "code",
   "execution_count": null,
   "metadata": {},
   "outputs": [],
   "source": [
    "# Imports\n",
    "\n",
    "import keras\n",
    "import datetime as dt\n",
    "import os\n",
    "import numpy as np\n",
    "import tensorflow as tf\n",
    "from datetime import datetime\n",
    "from os import listdir\n",
    "from os.path import isfile, join"
   ]
  },
  {
   "cell_type": "code",
   "execution_count": null,
   "metadata": {},
   "outputs": [],
   "source": [
    "# Create model\n",
    "\n",
    "input_shape1 = (2, 7, 6)\n",
    "input_shape2 = (4,)\n",
    "input_shape3 = (4,)\n",
    "array_input = keras.layers.Input(shape = (2, 7, 6), name = \"array_input\")\n",
    "\n",
    "input1 = keras.layers.Input(shape=input_shape1, name=\"regression: board and lines\")\n",
    "input2 = keras.layers.Input(shape=input_shape2)\n",
    "input3 = keras.layers.Input(shape=input_shape3)\n",
    "\n",
    "flatten1 = keras.layers.Flatten()(input1)\n",
    "\n",
    "concatenated = keras.layers.Concatenate()([flatten1, input2, input3])\n",
    "\n",
    "# Dense layers for processing concatenated inputs\n",
    "dense1 = keras.layers.Dense(1024, activation = \"relu\")(concatenated)\n",
    "dense2 = keras.layers.Dense(512, activation = \"relu\")(dense1)\n",
    "dense3 = keras.layers.Dense(256, activation = \"relu\")(dense2)\n",
    "\n",
    "# Output layer\n",
    "output = keras.layers.Dense(1, activation = \"linear\", name = \"output\")(dense3)\n",
    "\n",
    "model = keras.models.Model(inputs=[input1, input2, input3], outputs=output)\n",
    "model.compile(optimizer=\"adam\", loss=\"mean_squared_error\", metrics=[\"mae\"])\n",
    "model.summary()\n"
   ]
  },
  {
   "cell_type": "code",
   "execution_count": null,
   "metadata": {},
   "outputs": [],
   "source": [
    "# Save model\n",
    "\n",
    "model_name = \"board-and-lines\"\n",
    "\n",
    "if not os.path.exists(f\"models/{model_name}\"):\n",
    "    os.makedirs(f\"models/{model_name}\")\n",
    "model.save(f\"models/{model_name}/{dt.datetime.today().strftime('%Y-%m-%d_%H-%M-%S')}.keras\")\n"
   ]
  },
  {
   "cell_type": "code",
   "execution_count": null,
   "metadata": {},
   "outputs": [],
   "source": [
    "# Train model\n",
    "\n",
    "ys = np.load(\"y.npy\")\n",
    "positions = np.load(\"positions.npy\")\n",
    "my_lines = np.load(\"my_lines.npy\")\n",
    "enemy_lines = np.load(\"enemy_lines.npy\")\n",
    "\n",
    "while True:\n",
    "    model_version = sorted([f for f in listdir(f\"models/{model_name}\") if isfile(join(f\"models/{model_name}\", f))])[-1]\n",
    "    print(len(ys))\n",
    "    model = tf.keras.models.load_model(f\"models/{model_name}/{model_version}\")\n",
    "    model.compile(optimizer=\"adam\", loss=\"mean_squared_error\", metrics=[\"mae\"])\n",
    "\n",
    "    model.fit([positions, my_lines, enemy_lines], ys, epochs = 1, batch_size = 128, validation_split = 0.2)\n",
    "\n",
    "    model.save(f\"models/{model_name}/{datetime.today().strftime('%Y-%m-%d_%H-%M-%S')}.keras\")\n"
   ]
  }
 ],
 "metadata": {
  "kernelspec": {
   "display_name": "venv",
   "language": "python",
   "name": "python3"
  },
  "language_info": {
   "codemirror_mode": {
    "name": "ipython",
    "version": 3
   },
   "file_extension": ".py",
   "mimetype": "text/x-python",
   "name": "python",
   "nbconvert_exporter": "python",
   "pygments_lexer": "ipython3",
   "version": "3.11.9"
  }
 },
 "nbformat": 4,
 "nbformat_minor": 2
}
