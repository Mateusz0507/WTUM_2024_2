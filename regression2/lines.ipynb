{
 "cells": [
  {
   "cell_type": "code",
   "execution_count": null,
   "metadata": {},
   "outputs": [],
   "source": [
    "# Create model\n",
    "\n",
    "import keras\n",
    "\n",
    "input_shape1 = (3,)\n",
    "input_shape2 = (3,)\n",
    "\n",
    "input1 = keras.layers.Input(shape=input_shape1, name=\"regression: lines\")\n",
    "input2 = keras.layers.Input(shape=input_shape2)\n",
    "\n",
    "concatenated = keras.layers.Concatenate()([input1, input2])\n",
    "\n",
    "# Output layer\n",
    "output = keras.layers.Dense(1, activation = \"linear\", name = \"output\")(concatenated)\n",
    "\n",
    "\n",
    "model = keras.models.Model(inputs=[input1, input2], outputs=output)\n",
    "model.compile(optimizer=\"adam\", loss=\"mean_squared_error\", metrics=[\"mae\"])\n",
    "model.summary()"
   ]
  },
  {
   "cell_type": "code",
   "execution_count": null,
   "metadata": {},
   "outputs": [],
   "source": [
    "# Save model\n",
    "\n",
    "import datetime as dt\n",
    "import os\n",
    "\n",
    "model_name = \"lines\"\n",
    "\n",
    "if not os.path.exists(f\"models/{model_name}\"):\n",
    "    os.makedirs(f\"models/{model_name}\")\n",
    "model.save(f\"models/{model_name}/{dt.datetime.today().strftime('%Y-%m-%d_%H-%M-%S')}.keras\")"
   ]
  }
 ],
 "metadata": {
  "language_info": {
   "name": "python"
  }
 },
 "nbformat": 4,
 "nbformat_minor": 2
}
